{
 "cells": [
  {
   "cell_type": "markdown",
   "metadata": {},
   "source": [
    "# Graphical representations\n",
    "\n",
    "> PS: Charts itself will be shown on the practical book, this book is only to tell the best cases for each graphical representation.\n"
   ]
  },
  {
   "cell_type": "markdown",
   "metadata": {},
   "source": [
    "### Histogram\n",
    "\n",
    "    - Used for continuous numeric variables.\n",
    "    - Shows the data distribuition in intervals.\n",
    "\n",
    "### Bar chart\n",
    "\n",
    "    - Used for category or discret variables.\n",
    "    - Shows the count or frequency of each category.\n",
    "\n",
    "### Dispersion chart\n",
    "\n",
    "    - Used to show the relation between two numeric variables.\n",
    "    - Helps to identify patterns or tendencies.\n",
    "\n",
    "### Box Plot\n",
    "\n",
    "    - Used for numeric or ordinal categoric variables.\n",
    "    - Reveals the distribuition, median and atypic values.\n",
    "\n",
    "### Line chart\n",
    "\n",
    "    - Used for numeric variables over the time or in a sequence.\n",
    "    - Highlights temporal tendencies.\n"
   ]
  }
 ],
 "metadata": {
  "language_info": {
   "name": "python"
  }
 },
 "nbformat": 4,
 "nbformat_minor": 2
}
