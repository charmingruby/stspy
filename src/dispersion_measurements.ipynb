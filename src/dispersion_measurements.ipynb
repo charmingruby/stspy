{
 "cells": [
  {
   "cell_type": "markdown",
   "metadata": {},
   "source": [
    "# Position Measurements\n",
    "\n",
    "### Variance\n",
    "\n",
    "    - Average of the squares of the differences between each value and the arithmetic mean.\n",
    "    - Is useful for have an idea how far from mean they are, considering the weight of each difference.\n",
    "\n",
    "### Standart deviation\n",
    "\n",
    "    - Square root of the variance and expresses the dispersion in the same unit of measurement as the data.\n",
    "    - The most common.\n",
    "    - Dispersion expression in the same unit of data.\n",
    "\n",
    "### Coefficient of variation\n",
    "\n",
    "    - Calculated by dividing the standard deviation by the mean and is expressed as a percentage.\n",
    "    - Relative variability relationated to the mean.\n",
    "    - Is useful for comparing dispersion between different datasets.\n"
   ]
  }
 ],
 "metadata": {
  "language_info": {
   "name": "python"
  }
 },
 "nbformat": 4,
 "nbformat_minor": 2
}
