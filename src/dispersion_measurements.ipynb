{
 "cells": [
  {
   "cell_type": "markdown",
   "metadata": {},
   "source": [
    "# Position Measurements\n",
    "\n",
    "### Variance\n",
    "\n",
    "### Standart deviation\n",
    "\n",
    "### Coefficient of variation\n"
   ]
  }
 ],
 "metadata": {
  "language_info": {
   "name": "python"
  }
 },
 "nbformat": 4,
 "nbformat_minor": 2
}
