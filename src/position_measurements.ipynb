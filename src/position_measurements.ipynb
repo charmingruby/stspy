{
 "cells": [
  {
   "cell_type": "markdown",
   "metadata": {},
   "source": [
    "# Position Measurements\n",
    "\n",
    "### Mean\n",
    "\n",
    "    - Sum of all values divided by the amount of values.\n",
    "    - More common.\n",
    "    - Sensible for big values.\n",
    "\n",
    "### Median\n",
    "\n",
    "    - It's the value that divides the dataset in two equal parts. In other words, it's the middle value when the data is sorted.\n",
    "    - Not sensible for big values.\n",
    "    - Is util for in assimetrics distribuitions.\n",
    "\n",
    "### Mode\n",
    "\n",
    "    - Most frequent value in a dataset.\n",
    "    - Can have one or more modes, or cannot have one.\n",
    "    - Is util for categoric data or when wants to identify the most frequent values.\n"
   ]
  }
 ],
 "metadata": {
  "kernelspec": {
   "display_name": "stspy-uB6zmZmf-py3.10",
   "language": "python",
   "name": "python3"
  },
  "language_info": {
   "codemirror_mode": {
    "name": "ipython",
    "version": 3
   },
   "file_extension": ".py",
   "mimetype": "text/x-python",
   "name": "python",
   "nbconvert_exporter": "python",
   "pygments_lexer": "ipython3",
   "version": "3.10.12"
  }
 },
 "nbformat": 4,
 "nbformat_minor": 2
}
