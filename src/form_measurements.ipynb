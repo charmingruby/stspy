{
 "cells": [
  {
   "cell_type": "markdown",
   "metadata": {},
   "source": [
    "# Form Measurements\n",
    "\n",
    "### Assimetric\n",
    "\n",
    "    - Indicates the distribuition distorsion level and direction related to the mean.\n",
    "    - A positive assimetry means the distribuition right tail is longer (bigger values are more scattered).\n",
    "    - A negative assimetry means the distribuition left tail is longer (lower values are more scattered).\n",
    "\n",
    "### Kurtosis\n",
    "\n",
    "    - Measures the distribuition peak.\n",
    "    - A higher kurtosis indicates a more concentrated distribution ().\n",
    "    - A lower kurtosis indicates a less concentrated distribution.\n"
   ]
  }
 ],
 "metadata": {
  "language_info": {
   "name": "python"
  }
 },
 "nbformat": 4,
 "nbformat_minor": 2
}
