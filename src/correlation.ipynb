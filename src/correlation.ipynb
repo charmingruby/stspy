{
 "cells": [
  {
   "cell_type": "markdown",
   "metadata": {},
   "source": [
    "# Correlation\n"
   ]
  },
  {
   "cell_type": "markdown",
   "metadata": {},
   "source": [
    "## Coefficients\n",
    "\n",
    "### Pearson Coefficient\n",
    "\n",
    "    - Measures the linear relation between two variables.\n",
    "    - Varies from -1 (perfect negative correlation) to 1 (perfect positive correlation), 0 goes for no correlation.\n",
    "    - Appropriate to numeric variables with a possible linear relation.\n",
    "\n",
    "### Spearman Coefficient\n",
    "\n",
    "    - Availables the monotonic relation (not linear necessarily) between variables.\n",
    "    - Same scale of Pearson.\n",
    "    - Is useful when the data don't have a clear liner relation or when the variable are not numerically scalonables\n"
   ]
  },
  {
   "cell_type": "markdown",
   "metadata": {},
   "source": [
    "## Associations\n",
    "\n",
    "### Positive association\n",
    "\n",
    "    - Variable grows in same proportion with another one growing.\n",
    "\n",
    "### Negative association\n",
    "\n",
    "    - Variable grows while the other decreases.\n",
    "\n",
    "### No Association\n",
    "\n",
    "    - No relation between variables.\n"
   ]
  },
  {
   "cell_type": "markdown",
   "metadata": {},
   "source": [
    ".\n"
   ]
  }
 ],
 "metadata": {
  "language_info": {
   "name": "python"
  }
 },
 "nbformat": 4,
 "nbformat_minor": 2
}
